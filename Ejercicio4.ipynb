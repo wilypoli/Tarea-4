{
 "cells": [
  {
   "cell_type": "code",
   "execution_count": null,
   "metadata": {},
   "outputs": [
    {
     "ename": "",
     "evalue": "",
     "output_type": "error",
     "traceback": [
      "\u001b[1;31mRunning cells with 'Python 3.12.7' requires the ipykernel package.\n",
      "\u001b[1;31mRun the following command to install 'ipykernel' into the Python environment. \n",
      "\u001b[1;31mCommand: '\"c:/Users/Admin Sistema/AppData/Local/Programs/Python/Python312/python.exe\" -m pip install ipykernel -U --user --force-reinstall'"
     ]
    }
   ],
   "source": [
    "import numpy as np\n",
    "import matplotlib.pyplot as plt\n",
    "\n",
    "# Definición de los valores de x\n",
    "x = np.linspace(-2, 2, 100)\n",
    "\n",
    "# Definición de las funciones\n",
    "y1 = x**2 - 1\n",
    "y2 = np.exp(1 - x**2)\n",
    "\n",
    "# Graficar ambas funciones\n",
    "plt.figure(figsize=(10, 6))\n",
    "plt.plot(x, y1, label=r\"$y = x^2 - 1$\", color='blue')\n",
    "plt.plot(x, y2, label=r\"$y = e^{1 - x^2}$\", color='red')\n",
    "plt.xlabel(\"x\")\n",
    "plt.ylabel(\"y\")\n",
    "plt.title(\"Gráficas de y = x^2 - 1 y y = e^{1 - x^2}\")\n",
    "plt.axhline(0, color='black', linewidth=0.5)\n",
    "plt.axvline(0, color='black', linewidth=0.5)\n",
    "plt.legend()\n",
    "plt.grid(True)\n",
    "plt.show()\n"
   ]
  },
  {
   "cell_type": "code",
   "execution_count": null,
   "metadata": {},
   "outputs": [
    {
     "ename": "",
     "evalue": "",
     "output_type": "error",
     "traceback": [
      "\u001b[1;31mRunning cells with 'Python 3.12.7' requires the ipykernel package.\n",
      "\u001b[1;31mRun the following command to install 'ipykernel' into the Python environment. \n",
      "\u001b[1;31mCommand: '\"c:/Users/Admin Sistema/AppData/Local/Programs/Python/Python312/python.exe\" -m pip install ipykernel -U --user --force-reinstall'"
     ]
    }
   ],
   "source": [
    "import numpy as np\n",
    "import matplotlib.pyplot as plt\n",
    "\n",
    "# Definición de los valores de x\n",
    "x = np.linspace(-2, 2, 100)\n",
    "\n",
    "# Definición de las funciones\n",
    "y1 = x**2 - 1\n",
    "y2 = np.exp(1 - x**2)\n",
    "\n",
    "# Graficar ambas funciones\n",
    "plt.figure(figsize=(10, 6))\n",
    "plt.plot(x, y1, label=r\"$y = x^2 - 1$\", color='blue')\n",
    "plt.plot(x, y2, label=r\"$y = e^{1 - x^2}$\", color='red')\n",
    "plt.xlabel(\"x\")\n",
    "plt.ylabel(\"y\")\n",
    "plt.title(\"Gráficas de y = x^2 - 1 y y = e^{1 - x^2}\")\n",
    "plt.axhline(0, color='black', linewidth=0.5)\n",
    "plt.axvline(0, color='black', linewidth=0.5)\n",
    "plt.legend()\n",
    "plt.grid(True)\n",
    "plt.show()\n"
   ]
  },
  {
   "cell_type": "code",
   "execution_count": null,
   "metadata": {},
   "outputs": [],
   "source": []
  }
 ],
 "metadata": {
  "kernelspec": {
   "display_name": "Python 3",
   "language": "python",
   "name": "python3"
  },
  "language_info": {
   "name": "python",
   "version": "3.12.7"
  }
 },
 "nbformat": 4,
 "nbformat_minor": 2
}
